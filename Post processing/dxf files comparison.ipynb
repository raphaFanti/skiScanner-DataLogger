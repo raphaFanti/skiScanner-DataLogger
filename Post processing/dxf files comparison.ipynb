{
 "cells": [
  {
   "cell_type": "code",
   "execution_count": 1,
   "metadata": {},
   "outputs": [],
   "source": [
    "import pandas as pd\n",
    "import numpy as np\n",
    "import matplotlib.pyplot as plt\n",
    "import ezdxf as dxf\n",
    "from ezdxf import recover\n",
    "from ezdxf.addons.drawing import RenderContext, Frontend\n",
    "from ezdxf.addons.drawing.matplotlib import MatplotlibBackend\n"
   ]
  },
  {
   "cell_type": "code",
   "execution_count": 2,
   "metadata": {},
   "outputs": [
    {
     "data": {
      "image/png": "[encoded data removed]",
      "text/plain": [
       "<Figure size 1152x144 with 1 Axes>"
      ]
     },
     "metadata": {
      "needs_background": "light"
     },
     "output_type": "display_data"
    }
   ],
   "source": [
    "# Safe loading procedure of dxf file(requires ezdxf v0.14):\n",
    "# The auditor.errors attribute stores severe errors,\n",
    "# which may raise exceptions when rendering.\n",
    "try:\n",
    "    doc, auditor = recover.readfile('DY-S76-167-1.dxf')\n",
    "except IOError:\n",
    "    print(f'Not a DXF file or a generic I/O error.')\n",
    "    sys.exit(1)\n",
    "except ezdxf.DXFStructureError:\n",
    "    print(f'Invalid or corrupted DXF file.')\n",
    "    sys.exit(2)\n",
    "\n",
    "# Printing the dxf content\n",
    "if not auditor.has_errors:\n",
    "    fig = plt.figure()\n",
    "    ax = fig.add_axes([0, 0, 1, 1])\n",
    "    ctx = RenderContext(doc)\n",
    "    out = MatplotlibBackend(ax)\n",
    "    Frontend(ctx, out).draw_layout(doc.modelspace(), finalize=True)\n",
    "    # Saving dxf content in png image\n",
    "    #fig.savefig('your.png', dpi=300)"
   ]
  },
  {
   "cell_type": "code",
   "execution_count": 7,
   "metadata": {},
   "outputs": [],
   "source": [
    "def print_entity(e):\n",
    "    print(\"LINE on layer: %s\\n\" % e.dxf.layer)\n",
    "    print(\"start point: %s\\n\" % e.dxf.start)\n",
    "    print(\"end point: %s\\n\" % e.dxf.end)"
   ]
  },
  {
   "cell_type": "code",
   "execution_count": 10,
   "metadata": {},
   "outputs": [],
   "source": [
    "# iterate over all entities in modelspace\n",
    "msp = doc.modelspace()\n",
    "for e in msp:\n",
    "    if e.dxftype() == 'SLINE':\n",
    "        print_entity(e)\n",
    "\n",
    "# entity query for all LINE entities in modelspace\n",
    "for e in msp.query('SLINE'):\n",
    "    print_entity(e)\n"
   ]
  },
  {
   "cell_type": "code",
   "execution_count": 5,
   "metadata": {},
   "outputs": [
    {
     "data": {
      "text/plain": [
       "<ezdxf.query.EntityQuery at 0xfadee50>"
      ]
     },
     "execution_count": 5,
     "metadata": {},
     "output_type": "execute_result"
    }
   ],
   "source": [
    "lines"
   ]
  },
  {
   "cell_type": "code",
   "execution_count": null,
   "metadata": {},
   "outputs": [],
   "source": []
  }
 ],
 "metadata": {
  "kernelspec": {
   "display_name": "Python 3",
   "language": "python",
   "name": "python3"
  },
  "language_info": {
   "codemirror_mode": {
    "name": "ipython",
    "version": 3
   },
   "file_extension": ".py",
   "mimetype": "text/x-python",
   "name": "python",
   "nbconvert_exporter": "python",
   "pygments_lexer": "ipython3",
   "version": "3.8.3"
  }
 },
 "nbformat": 4,
 "nbformat_minor": 4
}
