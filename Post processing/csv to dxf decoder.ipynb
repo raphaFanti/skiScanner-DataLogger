{
 "cells": [
  {
   "cell_type": "markdown",
   "metadata": {},
   "source": [
    "# CSV to DXF converter\n",
    "\n",
    "This script gets a file produced by the ski scanner, which is a CSV type containing information on displacement and width, and transforms it into a dxf file which is the input for the laser cutting machine used at Pomoca.\n",
    "\n",
    "## CSV file read\n",
    "\n",
    "\n",
    "[note] For now the file is a manual mock file with manual measurements"
   ]
  },
  {
   "cell_type": "code",
   "execution_count": 2,
   "metadata": {},
   "outputs": [
    {
     "name": "stdout",
     "output_type": "stream",
     "text": [
      "<class 'pandas.core.frame.DataFrame'>\n",
      "RangeIndex: 85 entries, 0 to 84\n",
      "Data columns (total 2 columns):\n",
      " #   Column  Non-Null Count  Dtype  \n",
      "---  ------  --------------  -----  \n",
      " 0   L       85 non-null     int64  \n",
      " 1   W       85 non-null     float64\n",
      "dtypes: float64(1), int64(1)\n",
      "memory usage: 1.4 KB\n",
      "None\n"
     ]
    },
    {
     "data": {
      "text/html": [
       "<div>\n",
       "<style scoped>\n",
       "    .dataframe tbody tr th:only-of-type {\n",
       "        vertical-align: middle;\n",
       "    }\n",
       "\n",
       "    .dataframe tbody tr th {\n",
       "        vertical-align: top;\n",
       "    }\n",
       "\n",
       "    .dataframe thead th {\n",
       "        text-align: right;\n",
       "    }\n",
       "</style>\n",
       "<table border=\"1\" class=\"dataframe\">\n",
       "  <thead>\n",
       "    <tr style=\"text-align: right;\">\n",
       "      <th></th>\n",
       "      <th>0</th>\n",
       "      <th>1</th>\n",
       "      <th>2</th>\n",
       "      <th>3</th>\n",
       "      <th>4</th>\n",
       "      <th>5</th>\n",
       "      <th>6</th>\n",
       "      <th>7</th>\n",
       "      <th>8</th>\n",
       "      <th>9</th>\n",
       "      <th>...</th>\n",
       "      <th>75</th>\n",
       "      <th>76</th>\n",
       "      <th>77</th>\n",
       "      <th>78</th>\n",
       "      <th>79</th>\n",
       "      <th>80</th>\n",
       "      <th>81</th>\n",
       "      <th>82</th>\n",
       "      <th>83</th>\n",
       "      <th>84</th>\n",
       "    </tr>\n",
       "  </thead>\n",
       "  <tbody>\n",
       "    <tr>\n",
       "      <th>L</th>\n",
       "      <td>0.0</td>\n",
       "      <td>20.000</td>\n",
       "      <td>40.0</td>\n",
       "      <td>60.00</td>\n",
       "      <td>80.00</td>\n",
       "      <td>100.000</td>\n",
       "      <td>120.00</td>\n",
       "      <td>140.00</td>\n",
       "      <td>160.0</td>\n",
       "      <td>180.000</td>\n",
       "      <td>...</td>\n",
       "      <td>1500.0</td>\n",
       "      <td>1520.0</td>\n",
       "      <td>1540.0</td>\n",
       "      <td>1560.0</td>\n",
       "      <td>1580.0</td>\n",
       "      <td>1600.00</td>\n",
       "      <td>1620.00</td>\n",
       "      <td>1640.0</td>\n",
       "      <td>1660.00</td>\n",
       "      <td>1680.00</td>\n",
       "    </tr>\n",
       "    <tr>\n",
       "      <th>W</th>\n",
       "      <td>32.5</td>\n",
       "      <td>38.325</td>\n",
       "      <td>44.1</td>\n",
       "      <td>49.25</td>\n",
       "      <td>52.25</td>\n",
       "      <td>54.325</td>\n",
       "      <td>55.57</td>\n",
       "      <td>56.25</td>\n",
       "      <td>56.5</td>\n",
       "      <td>56.375</td>\n",
       "      <td>...</td>\n",
       "      <td>46.4</td>\n",
       "      <td>47.2</td>\n",
       "      <td>47.8</td>\n",
       "      <td>48.4</td>\n",
       "      <td>49.0</td>\n",
       "      <td>49.68</td>\n",
       "      <td>49.18</td>\n",
       "      <td>48.7</td>\n",
       "      <td>39.95</td>\n",
       "      <td>32.18</td>\n",
       "    </tr>\n",
       "  </tbody>\n",
       "</table>\n",
       "<p>2 rows × 85 columns</p>\n",
       "</div>"
      ],
      "text/plain": [
       "     0       1     2      3      4        5       6       7      8        9   \\\n",
       "L   0.0  20.000  40.0  60.00  80.00  100.000  120.00  140.00  160.0  180.000   \n",
       "W  32.5  38.325  44.1  49.25  52.25   54.325   55.57   56.25   56.5   56.375   \n",
       "\n",
       "   ...      75      76      77      78      79       80       81      82  \\\n",
       "L  ...  1500.0  1520.0  1540.0  1560.0  1580.0  1600.00  1620.00  1640.0   \n",
       "W  ...    46.4    47.2    47.8    48.4    49.0    49.68    49.18    48.7   \n",
       "\n",
       "        83       84  \n",
       "L  1660.00  1680.00  \n",
       "W    39.95    32.18  \n",
       "\n",
       "[2 rows x 85 columns]"
      ]
     },
     "execution_count": 2,
     "metadata": {},
     "output_type": "execute_result"
    }
   ],
   "source": [
    "import pandas as pd\n",
    "import numpy as np\n",
    "import matplotlib.pyplot as plt\n",
    "import ezdxf as dxf\n",
    "from ezdxf import recover\n",
    "from ezdxf.addons.drawing import RenderContext, Frontend\n",
    "from ezdxf.addons.drawing.matplotlib import MatplotlibBackend\n",
    "\n",
    "# Reading raw data\n",
    "df = pd.read_csv(\"input.csv\", sep = \";\")\n",
    "df['W'] = df['W']/2 # Half width to plot profile\n",
    "\n",
    "# Nominal length\n",
    "L = 167\n",
    "\n",
    "# Percentage of smoothness for tip and tail\n",
    "tipaddp = 0.01 #tip add percentage\n",
    "tailaddp = 0.005 #tail add percentage\n",
    "\n",
    "print(df.info())\n",
    "df.transpose()"
   ]
  },
  {
   "cell_type": "code",
   "execution_count": 53,
   "metadata": {},
   "outputs": [
    {
     "data": {
      "image/png": "[encoded data removed]",
      "text/plain": [
       "<Figure size 2160x576 with 1 Axes>"
      ]
     },
     "metadata": {
      "needs_background": "light"
     },
     "output_type": "display_data"
    }
   ],
   "source": [
    "# Plot two sides of the ski\n",
    "\n",
    "plt.figure(figsize=(30, 8))\n",
    "\n",
    "df_select = df.to_numpy()\n",
    "x,y = df_select[:,0],df_select[:,1]\n",
    "df_select2 = df.to_numpy()\n",
    "df_select2[:,1] = -df_select[:,1]\n",
    "\n",
    "maxlength = np.amax(df['L'])\n",
    "minlength = np.amin(df['L'])\n",
    "tipadd = np.array([minlength - (maxlength*tipaddp), 0])\n",
    "tailadd = np.array([maxlength + (maxlength*tailaddp),0])\n",
    "\n",
    "plt.plot(tipadd[0],tipadd[1], 'ro')\n",
    "plt.plot(tailadd[0],tailadd[1], 'ro')\n",
    "plt.plot(df['L'], df['W'], 'ro')\n",
    "plt.plot(df['L'], -df['W'], 'ro')\n",
    "plt.show()"
   ]
  },
  {
   "cell_type": "code",
   "execution_count": 52,
   "metadata": {},
   "outputs": [
    {
     "data": {
      "text/plain": [
       "array([-16.8,   0. ])"
      ]
     },
     "execution_count": 52,
     "metadata": {},
     "output_type": "execute_result"
    }
   ],
   "source": [
    "np.array(tipadd)"
   ]
  },
  {
   "cell_type": "code",
   "execution_count": 86,
   "metadata": {},
   "outputs": [],
   "source": [
    "# Create a new DXF document.\n",
    "doc = dxf.new(dxfversion='R2010')\n",
    "\n",
    "# DXF entities (LINE, TEXT, ...) reside in a layout (like modelspace).  \n",
    "msp = doc.modelspace()\n",
    "\n",
    "# Convert dataframe to array\n",
    "df_select = df.to_numpy()\n",
    "df_select2 = df.to_numpy()\n",
    "df_select2[:,1] = -df_select[:,1]\n",
    "extreme_1 = df_select[-1,:]\n",
    "extreme_2 = df_select2[-1,:]\n",
    "\n",
    "# Add points to add a flat part to the tail (to be changed with a smoother curve when )\n",
    "tail = np.concatenate(([np.full(10, df_select2[-1,0])],[np.linspace(extreme_1[1],extreme_2[1],10)]),axis = 0).transpose()\n",
    "# tail = np.concatenate([df_select[0:-2,:],tail, np.flip(df_select2[0:-2,:], axis=0)])\n",
    "\n",
    "# df_select3 = np.concatenate([df_select, tail, np.flip(df_select2, axis=0)])\n",
    "# df_select3 = np.concatenate([tail, np.flip(df_select, axis = 0), [tipadd], df_select2])\n",
    "# Add entities (spline) to a layout by factory methods: layout.add_...() \n",
    "msp.add_spline(df_select)\n",
    "msp.add_spline(df_select2)\n",
    "msp.add_spline(tail)\n",
    "\n",
    "#msp.add_spline(df_select3)\n",
    "\n",
    "# Save DXF document.\n",
    "doc.saveas('test.dxf')"
   ]
  },
  {
   "cell_type": "code",
   "execution_count": 88,
   "metadata": {},
   "outputs": [
    {
     "data": {
      "image/png": "[encoded data removed]",
      "text/plain": [
       "<Figure size 1152x144 with 1 Axes>"
      ]
     },
     "metadata": {
      "needs_background": "light"
     },
     "output_type": "display_data"
    }
   ],
   "source": [
    "# Safe loading procedure of dxf file(requires ezdxf v0.14):\n",
    "# The auditor.errors attribute stores severe errors,\n",
    "# which may raise exceptions when rendering.\n",
    "try:\n",
    "    doc, auditor = recover.readfile('test.dxf')\n",
    "except IOError:\n",
    "    print(f'Not a DXF file or a generic I/O error.')\n",
    "    sys.exit(1)\n",
    "except ezdxf.DXFStructureError:\n",
    "    print(f'Invalid or corrupted DXF file.')\n",
    "    sys.exit(2)\n",
    "\n",
    "# Printing the dxf content\n",
    "if not auditor.has_errors:\n",
    "    fig = plt.figure()\n",
    "    ax = fig.add_axes([0, 0, 1, 1])\n",
    "    ctx = RenderContext(doc)\n",
    "    out = MatplotlibBackend(ax)\n",
    "    Frontend(ctx, out).draw_layout(doc.modelspace(), finalize=True)\n",
    "    # Saving dxf content in png image\n",
    "    #fig.savefig('your.png', dpi=300)"
   ]
  },
  {
   "cell_type": "code",
   "execution_count": null,
   "metadata": {},
   "outputs": [],
   "source": []
  }
 ],
 "metadata": {
  "kernelspec": {
   "display_name": "Python 3",
   "language": "python",
   "name": "python3"
  },
  "language_info": {
   "codemirror_mode": {
    "name": "ipython",
    "version": 3
   },
   "file_extension": ".py",
   "mimetype": "text/x-python",
   "name": "python",
   "nbconvert_exporter": "python",
   "pygments_lexer": "ipython3",
   "version": "3.8.3"
  }
 },
 "nbformat": 4,
 "nbformat_minor": 4
}
